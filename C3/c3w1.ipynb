{
 "cells": [
  {
   "cell_type": "code",
   "execution_count": 1,
   "metadata": {},
   "outputs": [],
   "source": [
    "import re\n",
    "import pandas as pd\n",
    "import numpy as np\n",
    "from sklearn.cluster import MeanShift\n",
    "from scipy.spatial.distance import cosine"
   ]
  },
  {
   "cell_type": "code",
   "execution_count": 2,
   "metadata": {},
   "outputs": [],
   "source": [
    "data = []\n",
    "with open('checkins.dat', 'r') as file:\n",
    "    for line in file:\n",
    "        data.append(line[:-1])"
   ]
  },
  {
   "cell_type": "code",
   "execution_count": 3,
   "metadata": {},
   "outputs": [],
   "source": [
    "data.pop(1)\n",
    "data = list(map(lambda x: re.split('\\s+\\|\\s+|\\|', x), data))\n",
    "data = list(map(lambda x: list(map(lambda y: y.strip(), x)), data))\n",
    "columns = data[0]\n",
    "data = data[1:-2]\n",
    "DF = pd.DataFrame(data, columns = columns)\n",
    "DF = DF[DF.latitude != '']"
   ]
  },
  {
   "cell_type": "code",
   "execution_count": 4,
   "metadata": {},
   "outputs": [
    {
     "name": "stdout",
     "output_type": "stream",
     "text": [
      "<class 'pandas.core.frame.DataFrame'>\n",
      "Int64Index: 396634 entries, 1 to 1021964\n",
      "Data columns (total 6 columns):\n",
      "id            396634 non-null object\n",
      "user_id       396634 non-null object\n",
      "venue_id      396634 non-null object\n",
      "latitude      396634 non-null object\n",
      "longitude     396634 non-null object\n",
      "created_at    396634 non-null object\n",
      "dtypes: object(6)\n",
      "memory usage: 21.2+ MB\n"
     ]
    }
   ],
   "source": [
    "DF.info()"
   ]
  },
  {
   "cell_type": "code",
   "execution_count": 5,
   "metadata": {},
   "outputs": [
    {
     "data": {
      "text/html": [
       "<div>\n",
       "<style scoped>\n",
       "    .dataframe tbody tr th:only-of-type {\n",
       "        vertical-align: middle;\n",
       "    }\n",
       "\n",
       "    .dataframe tbody tr th {\n",
       "        vertical-align: top;\n",
       "    }\n",
       "\n",
       "    .dataframe thead th {\n",
       "        text-align: right;\n",
       "    }\n",
       "</style>\n",
       "<table border=\"1\" class=\"dataframe\">\n",
       "  <thead>\n",
       "    <tr style=\"text-align: right;\">\n",
       "      <th></th>\n",
       "      <th>id</th>\n",
       "      <th>user_id</th>\n",
       "      <th>venue_id</th>\n",
       "      <th>latitude</th>\n",
       "      <th>longitude</th>\n",
       "      <th>created_at</th>\n",
       "    </tr>\n",
       "  </thead>\n",
       "  <tbody>\n",
       "    <tr>\n",
       "      <th>1</th>\n",
       "      <td>984222</td>\n",
       "      <td>15824</td>\n",
       "      <td>5222</td>\n",
       "      <td>38.8951118</td>\n",
       "      <td>-77.0363658</td>\n",
       "      <td>2012-04-21 17:43:47</td>\n",
       "    </tr>\n",
       "    <tr>\n",
       "      <th>3</th>\n",
       "      <td>984234</td>\n",
       "      <td>44652</td>\n",
       "      <td>5222</td>\n",
       "      <td>33.800745</td>\n",
       "      <td>-84.41052</td>\n",
       "      <td>2012-04-21 17:43:43</td>\n",
       "    </tr>\n",
       "    <tr>\n",
       "      <th>7</th>\n",
       "      <td>984291</td>\n",
       "      <td>105054</td>\n",
       "      <td>5222</td>\n",
       "      <td>45.5234515</td>\n",
       "      <td>-122.6762071</td>\n",
       "      <td>2012-04-21 17:39:22</td>\n",
       "    </tr>\n",
       "    <tr>\n",
       "      <th>9</th>\n",
       "      <td>984318</td>\n",
       "      <td>2146539</td>\n",
       "      <td>5222</td>\n",
       "      <td>40.764462</td>\n",
       "      <td>-111.904565</td>\n",
       "      <td>2012-04-21 17:35:46</td>\n",
       "    </tr>\n",
       "    <tr>\n",
       "      <th>10</th>\n",
       "      <td>984232</td>\n",
       "      <td>93870</td>\n",
       "      <td>380645</td>\n",
       "      <td>33.4483771</td>\n",
       "      <td>-112.0740373</td>\n",
       "      <td>2012-04-21 17:38:18</td>\n",
       "    </tr>\n",
       "  </tbody>\n",
       "</table>\n",
       "</div>"
      ],
      "text/plain": [
       "        id  user_id venue_id    latitude     longitude           created_at\n",
       "1   984222    15824     5222  38.8951118   -77.0363658  2012-04-21 17:43:47\n",
       "3   984234    44652     5222   33.800745     -84.41052  2012-04-21 17:43:43\n",
       "7   984291   105054     5222  45.5234515  -122.6762071  2012-04-21 17:39:22\n",
       "9   984318  2146539     5222   40.764462   -111.904565  2012-04-21 17:35:46\n",
       "10  984232    93870   380645  33.4483771  -112.0740373  2012-04-21 17:38:18"
      ]
     },
     "execution_count": 5,
     "metadata": {},
     "output_type": "execute_result"
    }
   ],
   "source": [
    "DF.head()"
   ]
  },
  {
   "cell_type": "code",
   "execution_count": 6,
   "metadata": {},
   "outputs": [
    {
     "data": {
      "text/plain": [
       "(396634, 6)"
      ]
     },
     "execution_count": 6,
     "metadata": {},
     "output_type": "execute_result"
    }
   ],
   "source": [
    "DF.shape"
   ]
  },
  {
   "cell_type": "code",
   "execution_count": 7,
   "metadata": {},
   "outputs": [],
   "source": [
    "offices = np.array([[33.751277, -118.188740], \n",
    "                   [25.867736, -80.324116], \n",
    "                   [51.503016, -0.075479], \n",
    "                   [52.378894, 4.885084], \n",
    "                   [39.366487, 117.036146],\n",
    "                   [-33.868457, 151.205134]])"
   ]
  },
  {
   "cell_type": "code",
   "execution_count": 8,
   "metadata": {},
   "outputs": [],
   "source": [
    "DF_cords = DF.iloc[:,3:5]"
   ]
  },
  {
   "cell_type": "code",
   "execution_count": 9,
   "metadata": {
    "collapsed": true
   },
   "outputs": [
    {
     "name": "stderr",
     "output_type": "stream",
     "text": [
      "D:\\Conda\\lib\\site-packages\\ipykernel_launcher.py:3: SettingWithCopyWarning: \n",
      "A value is trying to be set on a copy of a slice from a DataFrame.\n",
      "Try using .loc[row_indexer,col_indexer] = value instead\n",
      "\n",
      "See the caveats in the documentation: http://pandas.pydata.org/pandas-docs/stable/indexing.html#indexing-view-versus-copy\n",
      "  This is separate from the ipykernel package so we can avoid doing imports until\n",
      "D:\\Conda\\lib\\site-packages\\ipykernel_launcher.py:5: SettingWithCopyWarning: \n",
      "A value is trying to be set on a copy of a slice from a DataFrame.\n",
      "Try using .loc[row_indexer,col_indexer] = value instead\n",
      "\n",
      "See the caveats in the documentation: http://pandas.pydata.org/pandas-docs/stable/indexing.html#indexing-view-versus-copy\n",
      "  \"\"\"\n",
      "D:\\Conda\\lib\\site-packages\\ipykernel_launcher.py:6: SettingWithCopyWarning: \n",
      "A value is trying to be set on a copy of a slice from a DataFrame.\n",
      "Try using .loc[row_indexer,col_indexer] = value instead\n",
      "\n",
      "See the caveats in the documentation: http://pandas.pydata.org/pandas-docs/stable/indexing.html#indexing-view-versus-copy\n",
      "  \n"
     ]
    }
   ],
   "source": [
    "clustering = MeanShift(bandwidth = 0.1).fit(DF_cords)\n",
    "\n",
    "DF_cords['labels'] = clustering.labels_.copy()\n",
    "DF_centers = pd.DataFrame(clustering.cluster_centers_[clustering.labels_])\n",
    "DF_cords['centers_la'] = DF_centers.iloc[:, 0]\n",
    "DF_cords['centers_lo'] = DF_centers.iloc[:, 1]"
   ]
  },
  {
   "cell_type": "code",
   "execution_count": null,
   "metadata": {},
   "outputs": [],
   "source": [
    "#also there is DataFrame.isin"
   ]
  },
  {
   "cell_type": "code",
   "execution_count": 10,
   "metadata": {},
   "outputs": [],
   "source": [
    "y = np.bincount(DF_cords.labels)\n",
    "ii = np.nonzero(y)[0]\n",
    "dropout = []\n",
    "for i, j in zip(ii,y[ii]):\n",
    "    if j <= 15:\n",
    "        dropout.append(i)"
   ]
  },
  {
   "cell_type": "code",
   "execution_count": 11,
   "metadata": {},
   "outputs": [],
   "source": [
    "DF_cords['test'] = DF_cords.labels.apply(lambda x: 0 if x in dropout else 1)\n",
    "DF_cords = DF_cords[DF_cords.test != 0]\n",
    "DF_cords.drop(['test'], axis = 1, inplace = True)"
   ]
  },
  {
   "cell_type": "code",
   "execution_count": 12,
   "metadata": {},
   "outputs": [],
   "source": [
    "DF_cords_forMapcustomizer = DF_cords.iloc[:, 0:2]\n",
    "with open('cords.txt', 'w') as file:\n",
    "    for la, lo in zip(DF_cords_forMapcustomizer.iloc[:, 0], DF_cords_forMapcustomizer.iloc[:, 1]):\n",
    "        file.write(f'{la} {lo}\\n')"
   ]
  },
  {
   "cell_type": "code",
   "execution_count": 15,
   "metadata": {},
   "outputs": [],
   "source": [
    "cos_cords = []\n",
    "DF_cords = DF_cords.iloc[:, 3:5]\n",
    "DF_cords.drop_duplicates(inplace = True)\n",
    "for la, lo in zip(DF_cords.iloc[:,0], DF_cords.iloc[:,1]):\n",
    "    for i in offices:\n",
    "        lst_ = []\n",
    "        lst_.append(cosine([i[0], i[1]], [la, lo]))\n",
    "        lst_.append(i[0])\n",
    "        lst_.append(i[1])\n",
    "        lst_.append(la)\n",
    "        lst_.append(lo)\n",
    "        cos_cords.append(lst_)"
   ]
  },
  {
   "cell_type": "code",
   "execution_count": 16,
   "metadata": {},
   "outputs": [
    {
     "data": {
      "text/html": [
       "<div>\n",
       "<style scoped>\n",
       "    .dataframe tbody tr th:only-of-type {\n",
       "        vertical-align: middle;\n",
       "    }\n",
       "\n",
       "    .dataframe tbody tr th {\n",
       "        vertical-align: top;\n",
       "    }\n",
       "\n",
       "    .dataframe thead th {\n",
       "        text-align: right;\n",
       "    }\n",
       "</style>\n",
       "<table border=\"1\" class=\"dataframe\">\n",
       "  <thead>\n",
       "    <tr style=\"text-align: right;\">\n",
       "      <th></th>\n",
       "      <th>0</th>\n",
       "      <th>1</th>\n",
       "      <th>2</th>\n",
       "      <th>3</th>\n",
       "      <th>4</th>\n",
       "    </tr>\n",
       "  </thead>\n",
       "  <tbody>\n",
       "    <tr>\n",
       "      <th>737</th>\n",
       "      <td>1.496716e-10</td>\n",
       "      <td>-33.868457</td>\n",
       "      <td>151.205134</td>\n",
       "      <td>-33.866146</td>\n",
       "      <td>151.207082</td>\n",
       "    </tr>\n",
       "    <tr>\n",
       "      <th>13147</th>\n",
       "      <td>8.103884e-10</td>\n",
       "      <td>25.867736</td>\n",
       "      <td>-80.324116</td>\n",
       "      <td>26.339806</td>\n",
       "      <td>-81.778697</td>\n",
       "    </tr>\n",
       "    <tr>\n",
       "      <th>4044</th>\n",
       "      <td>2.116338e-09</td>\n",
       "      <td>33.751277</td>\n",
       "      <td>-118.188740</td>\n",
       "      <td>32.725323</td>\n",
       "      <td>-114.624342</td>\n",
       "    </tr>\n",
       "    <tr>\n",
       "      <th>23640</th>\n",
       "      <td>3.734615e-09</td>\n",
       "      <td>33.751277</td>\n",
       "      <td>-118.188740</td>\n",
       "      <td>28.709143</td>\n",
       "      <td>-100.499521</td>\n",
       "    </tr>\n",
       "    <tr>\n",
       "      <th>11856</th>\n",
       "      <td>5.783020e-09</td>\n",
       "      <td>33.751277</td>\n",
       "      <td>-118.188740</td>\n",
       "      <td>32.978657</td>\n",
       "      <td>-115.530267</td>\n",
       "    </tr>\n",
       "    <tr>\n",
       "      <th>6042</th>\n",
       "      <td>7.614950e-09</td>\n",
       "      <td>33.751277</td>\n",
       "      <td>-118.188740</td>\n",
       "      <td>27.800583</td>\n",
       "      <td>-97.396381</td>\n",
       "    </tr>\n",
       "    <tr>\n",
       "      <th>21349</th>\n",
       "      <td>9.548929e-09</td>\n",
       "      <td>25.867736</td>\n",
       "      <td>-80.324116</td>\n",
       "      <td>39.143087</td>\n",
       "      <td>-121.604133</td>\n",
       "    </tr>\n",
       "    <tr>\n",
       "      <th>1695</th>\n",
       "      <td>1.084836e-08</td>\n",
       "      <td>52.378894</td>\n",
       "      <td>4.885084</td>\n",
       "      <td>52.372489</td>\n",
       "      <td>4.892268</td>\n",
       "    </tr>\n",
       "    <tr>\n",
       "      <th>132</th>\n",
       "      <td>1.160512e-08</td>\n",
       "      <td>33.751277</td>\n",
       "      <td>-118.188740</td>\n",
       "      <td>33.675235</td>\n",
       "      <td>-117.854455</td>\n",
       "    </tr>\n",
       "    <tr>\n",
       "      <th>2383</th>\n",
       "      <td>1.923498e-08</td>\n",
       "      <td>25.867736</td>\n",
       "      <td>-80.324116</td>\n",
       "      <td>25.846206</td>\n",
       "      <td>-80.311245</td>\n",
       "    </tr>\n",
       "    <tr>\n",
       "      <th>24035</th>\n",
       "      <td>1.927621e-08</td>\n",
       "      <td>-33.868457</td>\n",
       "      <td>151.205134</td>\n",
       "      <td>-33.776227</td>\n",
       "      <td>150.932315</td>\n",
       "    </tr>\n",
       "    <tr>\n",
       "      <th>22710</th>\n",
       "      <td>2.989950e-08</td>\n",
       "      <td>33.751277</td>\n",
       "      <td>-118.188740</td>\n",
       "      <td>18.032655</td>\n",
       "      <td>-63.087526</td>\n",
       "    </tr>\n",
       "    <tr>\n",
       "      <th>10451</th>\n",
       "      <td>4.372557e-08</td>\n",
       "      <td>-33.868457</td>\n",
       "      <td>151.205134</td>\n",
       "      <td>-33.714955</td>\n",
       "      <td>150.311407</td>\n",
       "    </tr>\n",
       "    <tr>\n",
       "      <th>894</th>\n",
       "      <td>4.770312e-08</td>\n",
       "      <td>33.751277</td>\n",
       "      <td>-118.188740</td>\n",
       "      <td>33.575306</td>\n",
       "      <td>-117.710220</td>\n",
       "    </tr>\n",
       "    <tr>\n",
       "      <th>14424</th>\n",
       "      <td>5.855432e-08</td>\n",
       "      <td>33.751277</td>\n",
       "      <td>-118.188740</td>\n",
       "      <td>18.433470</td>\n",
       "      <td>-64.633278</td>\n",
       "    </tr>\n",
       "    <tr>\n",
       "      <th>1302</th>\n",
       "      <td>7.454765e-08</td>\n",
       "      <td>33.751277</td>\n",
       "      <td>-118.188740</td>\n",
       "      <td>33.507378</td>\n",
       "      <td>-117.163308</td>\n",
       "    </tr>\n",
       "    <tr>\n",
       "      <th>19201</th>\n",
       "      <td>7.753306e-08</td>\n",
       "      <td>25.867736</td>\n",
       "      <td>-80.324116</td>\n",
       "      <td>31.435164</td>\n",
       "      <td>-97.743911</td>\n",
       "    </tr>\n",
       "    <tr>\n",
       "      <th>11815</th>\n",
       "      <td>1.028922e-07</td>\n",
       "      <td>25.867736</td>\n",
       "      <td>-80.324116</td>\n",
       "      <td>30.723526</td>\n",
       "      <td>-95.550777</td>\n",
       "    </tr>\n",
       "    <tr>\n",
       "      <th>6865</th>\n",
       "      <td>1.047972e-07</td>\n",
       "      <td>25.867736</td>\n",
       "      <td>-80.324116</td>\n",
       "      <td>37.237162</td>\n",
       "      <td>-115.809975</td>\n",
       "    </tr>\n",
       "    <tr>\n",
       "      <th>2418</th>\n",
       "      <td>1.213153e-07</td>\n",
       "      <td>33.751277</td>\n",
       "      <td>-118.188740</td>\n",
       "      <td>31.552938</td>\n",
       "      <td>-110.284922</td>\n",
       "    </tr>\n",
       "  </tbody>\n",
       "</table>\n",
       "</div>"
      ],
      "text/plain": [
       "                  0          1           2          3           4\n",
       "737    1.496716e-10 -33.868457  151.205134 -33.866146  151.207082\n",
       "13147  8.103884e-10  25.867736  -80.324116  26.339806  -81.778697\n",
       "4044   2.116338e-09  33.751277 -118.188740  32.725323 -114.624342\n",
       "23640  3.734615e-09  33.751277 -118.188740  28.709143 -100.499521\n",
       "11856  5.783020e-09  33.751277 -118.188740  32.978657 -115.530267\n",
       "6042   7.614950e-09  33.751277 -118.188740  27.800583  -97.396381\n",
       "21349  9.548929e-09  25.867736  -80.324116  39.143087 -121.604133\n",
       "1695   1.084836e-08  52.378894    4.885084  52.372489    4.892268\n",
       "132    1.160512e-08  33.751277 -118.188740  33.675235 -117.854455\n",
       "2383   1.923498e-08  25.867736  -80.324116  25.846206  -80.311245\n",
       "24035  1.927621e-08 -33.868457  151.205134 -33.776227  150.932315\n",
       "22710  2.989950e-08  33.751277 -118.188740  18.032655  -63.087526\n",
       "10451  4.372557e-08 -33.868457  151.205134 -33.714955  150.311407\n",
       "894    4.770312e-08  33.751277 -118.188740  33.575306 -117.710220\n",
       "14424  5.855432e-08  33.751277 -118.188740  18.433470  -64.633278\n",
       "1302   7.454765e-08  33.751277 -118.188740  33.507378 -117.163308\n",
       "19201  7.753306e-08  25.867736  -80.324116  31.435164  -97.743911\n",
       "11815  1.028922e-07  25.867736  -80.324116  30.723526  -95.550777\n",
       "6865   1.047972e-07  25.867736  -80.324116  37.237162 -115.809975\n",
       "2418   1.213153e-07  33.751277 -118.188740  31.552938 -110.284922"
      ]
     },
     "execution_count": 16,
     "metadata": {},
     "output_type": "execute_result"
    }
   ],
   "source": [
    "final = pd.DataFrame(cos_cords)\n",
    "final.sort_values(0, axis = 0).head(20)"
   ]
  },
  {
   "cell_type": "code",
   "execution_count": 154,
   "metadata": {},
   "outputs": [],
   "source": [
    "with open('answer.txt', 'w') as file:\n",
    "    file.write('-33.866146 151.207082')"
   ]
  },
  {
   "cell_type": "code",
   "execution_count": null,
   "metadata": {},
   "outputs": [],
   "source": []
  }
 ],
 "metadata": {
  "kernelspec": {
   "display_name": "Python 3",
   "language": "python",
   "name": "python3"
  },
  "language_info": {
   "codemirror_mode": {
    "name": "ipython",
    "version": 3
   },
   "file_extension": ".py",
   "mimetype": "text/x-python",
   "name": "python",
   "nbconvert_exporter": "python",
   "pygments_lexer": "ipython3",
   "version": "3.7.3"
  }
 },
 "nbformat": 4,
 "nbformat_minor": 2
}
