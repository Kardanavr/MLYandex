{
 "cells": [
  {
   "cell_type": "code",
   "execution_count": 1,
   "metadata": {},
   "outputs": [],
   "source": [
    "from sklearn.datasets  import load_digits\n",
    "from sklearn.neighbors import KNeighborsClassifier as KNC\n",
    "from sklearn.ensemble  import RandomForestClassifier as RFC\n",
    "from sklearn.metrics   import accuracy_score as acc\n",
    "from sklearn.metrics   import precision_score as pre"
   ]
  },
  {
   "cell_type": "code",
   "execution_count": 2,
   "metadata": {},
   "outputs": [],
   "source": [
    "X = load_digits().data\n",
    "y = load_digits().target\n",
    "_75 = int(len(X) * 0.75)\n",
    "X_train = X[:_75]\n",
    "X_test  = X[_75:]\n",
    "y_train = y[:_75]\n",
    "y_test  = y[_75:]"
   ]
  },
  {
   "cell_type": "code",
   "execution_count": 3,
   "metadata": {},
   "outputs": [
    {
     "name": "stdout",
     "output_type": "stream",
     "text": [
      "0.0377777777777778\n"
     ]
    }
   ],
   "source": [
    "KNN = KNC(n_neighbors = 1, metric = 'euclidean')\n",
    "KNN.fit(X_train, y_train)\n",
    "pred_KNN = KNN.predict(X_test)\n",
    "answer1 = 1 - acc(y_test, pred_KNN)\n",
    "print(answer1)\n",
    "\n",
    "with open('answer1.txt', 'w') as file:\n",
    "    file.write(f'{answer1}')"
   ]
  },
  {
   "cell_type": "code",
   "execution_count": 4,
   "metadata": {},
   "outputs": [
    {
     "name": "stdout",
     "output_type": "stream",
     "text": [
      "0.06888888888888889\n"
     ]
    }
   ],
   "source": [
    "forest = RFC(n_estimators = 1000)\n",
    "forest.fit(X_train, y_train)\n",
    "pred_forest = forest.predict(X_test)\n",
    "answer2 = 1 - acc(y_test, pred_forest)\n",
    "print(answer2)\n",
    "\n",
    "with open('answer2.txt', 'w') as file:\n",
    "    file.write(f'{answer2}')"
   ]
  }
 ],
 "metadata": {
  "kernelspec": {
   "display_name": "Python 3",
   "language": "python",
   "name": "python3"
  },
  "language_info": {
   "codemirror_mode": {
    "name": "ipython",
    "version": 3
   },
   "file_extension": ".py",
   "mimetype": "text/x-python",
   "name": "python",
   "nbconvert_exporter": "python",
   "pygments_lexer": "ipython3",
   "version": "3.7.3"
  }
 },
 "nbformat": 4,
 "nbformat_minor": 2
}
